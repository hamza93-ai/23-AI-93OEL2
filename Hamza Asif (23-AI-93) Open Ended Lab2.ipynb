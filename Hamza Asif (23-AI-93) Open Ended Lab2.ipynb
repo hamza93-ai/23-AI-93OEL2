{
  "nbformat": 4,
  "nbformat_minor": 0,
  "metadata": {
    "colab": {
      "provenance": []
    },
    "kernelspec": {
      "name": "python3",
      "display_name": "Python 3"
    },
    "language_info": {
      "name": "python"
    }
  },
  "cells": [
    {
      "cell_type": "code",
      "execution_count": 1,
      "metadata": {
        "colab": {
          "base_uri": "https://localhost:8080/"
        },
        "id": "PFXwitbQ3FnT",
        "outputId": "f49d36a0-a00b-4c5b-d178-e34a16e0c335"
      },
      "outputs": [
        {
          "output_type": "stream",
          "name": "stdout",
          "text": [
            "Input: abaxyzzyxf\n",
            "Longest Palindrome Length: 9\n",
            "\n",
            "Input: a\n",
            "Longest Palindrome Length: 1\n",
            "\n",
            "Input: AaBbCc\n",
            "Longest Palindrome Length: 1\n"
          ]
        }
      ],
      "source": [
        "#HAMZA ASIF\n",
        "#23-AI-93\n",
        "\n",
        "def longest_palindrome(s):\n",
        "    \"\"\"\n",
        "    Function to find the length of the longest palindrome that can be formed with the letters of the input string.\n",
        "    \"\"\"\n",
        "    from collections import Counter\n",
        "\n",
        "    char_counts = Counter(s)\n",
        "    length = 0\n",
        "    odd_found = False\n",
        "\n",
        "    for count in char_counts.values():\n",
        "        if count % 2 == 0:\n",
        "            length += count\n",
        "        else:\n",
        "            length += count - 1\n",
        "            odd_found = True\n",
        "\n",
        "    # Add one more character if an odd character count exists, as it can be used in the center of the palindrome.\n",
        "    if odd_found:\n",
        "        length += 1\n",
        "\n",
        "    return length\n",
        "\n",
        "\n",
        "if __name__ == \"__main__\":\n",
        "    # Example 1\n",
        "    input_string = \"abaxyzzyxf\"\n",
        "    print(f\"Input: {input_string}\")\n",
        "    print(f\"Longest Palindrome Length: {longest_palindrome(input_string)}\")  # Output: 7\n",
        "\n",
        "    # Example 2\n",
        "    input_string = \"a\"\n",
        "    print(f\"\\nInput: {input_string}\")\n",
        "    print(f\"Longest Palindrome Length: {longest_palindrome(input_string)}\")  # Output: 1\n",
        "\n",
        "    # Example 3 (optional test case)\n",
        "    input_string = \"AaBbCc\"\n",
        "    print(f\"\\nInput: {input_string}\")\n",
        "    print(f\"Longest Palindrome Length: {longest_palindrome(input_string)}\")  # Output: 1\n",
        "\n"
      ]
    }
  ]
}